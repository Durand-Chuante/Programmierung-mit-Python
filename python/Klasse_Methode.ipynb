{
 "cells": [
  {
   "cell_type": "code",
   "execution_count": 24,
   "metadata": {},
   "outputs": [
    {
     "name": "stdout",
     "output_type": "stream",
     "text": [
      "Weber & Adam GmbH\n"
     ]
    }
   ],
   "source": [
    "class Company():\n",
    "    \n",
    "    def __init__(self, firstname, lastname):\n",
    "        self.firstname = firstname\n",
    "        self.lastname = lastname\n",
    "    def name(self):\n",
    "        print(self.firstname + \" \" + self.lastname)\n",
    "\n",
    "reinigung = Company(\"Weber & Adam\", \"GmbH\")\n",
    "reinigung.name()"
   ]
  },
  {
   "cell_type": "code",
   "execution_count": 25,
   "metadata": {},
   "outputs": [
    {
     "name": "stdout",
     "output_type": "stream",
     "text": [
      "Durand Chuante\n"
     ]
    }
   ],
   "source": [
    "class Student():\n",
    "    def name(self):\n",
    "        print(self.firstname + \" \" + self.lastname)\n",
    "\n",
    "luc = Student()\n",
    "luc.firstname = \"Durand\"\n",
    "luc.lastname = \"Chuante\"\n",
    "\n",
    "luc.name()"
   ]
  },
  {
   "cell_type": "code",
   "execution_count": 26,
   "metadata": {},
   "outputs": [
    {
     "name": "stdout",
     "output_type": "stream",
     "text": [
      "Durand Chuante\n",
      "Durand Chuante\n",
      "Durand Chuante\n",
      "Durand Chuante\n",
      "Durand Chuante\n",
      "Weber & Adam GmbH\n",
      "Weber & Adam GmbH\n",
      "Weber & Adam GmbH\n",
      "Weber & Adam GmbH\n",
      "Weber & Adam GmbH\n"
     ]
    }
   ],
   "source": [
    "def name_5x(v):\n",
    "    v.name()\n",
    "    v.name()\n",
    "    v.name()\n",
    "    v.name()\n",
    "    v.name()\n",
    "name_5x(luc)\n",
    "name_5x(reinigung)"
   ]
  }
 ],
 "metadata": {
  "kernelspec": {
   "display_name": "Python 3",
   "language": "python",
   "name": "python3"
  },
  "language_info": {
   "codemirror_mode": {
    "name": "ipython",
    "version": 3
   },
   "file_extension": ".py",
   "mimetype": "text/x-python",
   "name": "python",
   "nbconvert_exporter": "python",
   "pygments_lexer": "ipython3",
   "version": "3.7.3"
  }
 },
 "nbformat": 4,
 "nbformat_minor": 2
}
